{
 "cells": [
  {
   "cell_type": "markdown",
   "id": "69188079",
   "metadata": {},
   "source": [
    "# Project Statement: Extending the Watts-Strogatz Model to a 2D Small-World Network\n",
    "\n",
    "## Instructions\n",
    "\n",
    "Deliver two files: a Jupyter Notebook (.ipynb) and its exported HTML version (.html). Work in groups of up to 5 members. Name the files using the first letters of the names or surnames of all group members (e.g., ABCD.ipynb for members Alice, Bob, Charlie, and David). This project builds on the Week 1 slides, extending the 1D Watts-Strogatz model into a 2D small-world network, exploring its structure and connectivity.\n",
    "\n",
    "## Project Description\n",
    "\n",
    "In this project, you will extend the 1D Watts-Strogatz model—introduced in Week 1 for studying small-world network properties—into a two-dimensional framework. The goal is to implement and visualize a 2D small-world network, starting from a regular grid structure and introducing random shortcuts to simulate small-world behavior. This exercise connects to our Week 1 topics: revisiting complex networks and analyzing connectivity models.\n",
    "\n",
    "## Objectives\n",
    "\n",
    "**Objective 1:** Design and implement a 2D small-world network by extending the Watts-Strogatz model, accurately distributing neighborhood connections across four directions in a regular grid.  \n",
    "**Objective 2:** Analyze the impact of random shortcuts on network topology, quantifying how ω influences connectivity and small-world properties through visualization and basic metrics.\n",
    "\n",
    "## Base Structure (30%)\n",
    "\n",
    "Begin by constructing a regular 2D network with N nodes. Choose one of the following topologies:\n",
    "- **2D X-Grid:** A lattice where each node connects to neighbors in four directions (up, down, left, right).\n",
    "- **2D Cross-Grid:** A variation with diagonal connections (up-right, up-left, down-right, down-left).\n",
    "\n",
    "Define a neighborhood size K, representing the total number of neighbors per node. In the 2D context, distribute K evenly across the four directions (i.e., K//4 neighbors per direction: up-right, up-left, down-right, down-left). Refer to the Jamboard diagram for clarity: https://jamboard.google.com/d/1-zJ-YVCEAc8S3i22f54Mz08IJs8gCb5OsV_Kvjfio18/edit?usp=sharing. \n",
    "\n",
    "> **Note:** Jamboard will stop working on October 1, 2025—save any sketches as PNGs or PDFs before then.\n",
    "\n",
    "## Random Shortcuts (40%)\n",
    "\n",
    "From the regular 2D structure, introduce randomness to create small-world properties. Generate a fraction of random shortcuts defined by ω = Kr​/K, where Kr​ is the number of random shortcuts added, and K is the original neighborhood size. These shortcuts should connect distant nodes, reducing the average path length while maintaining some clustering, mimicking real-world networks like social or neural systems. Implement this using Python 3 in a Jupyter Notebook, leveraging libraries like networkx for network creation and matplotlib for visualization.\n",
    "\n",
    "## Visualization and Analysis (30%)\n",
    "\n",
    "Visualize the resulting network, showing both the regular structure and the effect of random shortcuts. For inspiration, see this example notebook: https://github.com/marsgr6/r-scripts/blob/master/notebooks/intro_to_cn_p1.ipynb. Additional resources are available in the repository: https://github.com/marsgr6/r-scripts/tree/master/notebooks. Highlight key features like node degree distribution or clustering coefficients to demonstrate small-world characteristics.\n",
    "\n",
    "## Tools and Deliverables\n",
    "\n",
    "Use Jupyter Notebooks with Python 3, integrating libraries such as networkx for network generation, matplotlib or seaborn for visualization, and optionally numpy for calculations. Submit both the .ipynb file (with code, comments, and outputs) and the .html export (for static viewing). Ensure your code is well-documented and visualizations are clearly labeled."
   ]
  },
  {
   "cell_type": "markdown",
   "id": "eeda8c9a",
   "metadata": {},
   "source": []
  }
 ],
 "metadata": {
  "language_info": {
   "name": "python"
  }
 },
 "nbformat": 4,
 "nbformat_minor": 5
}
